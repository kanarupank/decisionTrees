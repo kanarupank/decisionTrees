{
 "cells": [
  {
   "cell_type": "code",
   "execution_count": 40,
   "metadata": {},
   "outputs": [
    {
     "name": "stdout",
     "output_type": "stream",
     "text": [
      "Import required libraries\n"
     ]
    }
   ],
   "source": [
    "print('Import required libraries')\n",
    "\n",
    "import pandas as pd\n",
    "import numpy as np\n",
    "import seaborn as sns\n",
    "import matplotlib.pyplot as plt\n",
    "from sklearn import tree\n",
    "from sklearn.model_selection import train_test_split"
   ]
  },
  {
   "cell_type": "code",
   "execution_count": 41,
   "metadata": {},
   "outputs": [],
   "source": [
    "data=pd.read_csv('wbcd.csv',header=None,na_values=['?'])\n"
   ]
  },
  {
   "cell_type": "code",
   "execution_count": 42,
   "metadata": {},
   "outputs": [],
   "source": [
    "data.columns=['id','clump_thickness:','nuiformity_of_cell_size','uniformity_of_cell_shape','Marginal Adhesion'\\\n",
    "             ,'single_epithelial_cell_size','bare_nuclei','bland_chromatin','normal_nucleoli','Mitoses','class']"
   ]
  },
  {
   "cell_type": "code",
   "execution_count": 43,
   "metadata": {},
   "outputs": [
    {
     "data": {
      "text/html": [
       "<div>\n",
       "<style scoped>\n",
       "    .dataframe tbody tr th:only-of-type {\n",
       "        vertical-align: middle;\n",
       "    }\n",
       "\n",
       "    .dataframe tbody tr th {\n",
       "        vertical-align: top;\n",
       "    }\n",
       "\n",
       "    .dataframe thead th {\n",
       "        text-align: right;\n",
       "    }\n",
       "</style>\n",
       "<table border=\"1\" class=\"dataframe\">\n",
       "  <thead>\n",
       "    <tr style=\"text-align: right;\">\n",
       "      <th></th>\n",
       "      <th>id</th>\n",
       "      <th>clump_thickness:</th>\n",
       "      <th>nuiformity_of_cell_size</th>\n",
       "      <th>uniformity_of_cell_shape</th>\n",
       "      <th>Marginal Adhesion</th>\n",
       "      <th>single_epithelial_cell_size</th>\n",
       "      <th>bare_nuclei</th>\n",
       "      <th>bland_chromatin</th>\n",
       "      <th>normal_nucleoli</th>\n",
       "      <th>Mitoses</th>\n",
       "      <th>class</th>\n",
       "    </tr>\n",
       "  </thead>\n",
       "  <tbody>\n",
       "    <tr>\n",
       "      <td>count</td>\n",
       "      <td>6.830000e+02</td>\n",
       "      <td>683.000000</td>\n",
       "      <td>683.000000</td>\n",
       "      <td>683.000000</td>\n",
       "      <td>683.000000</td>\n",
       "      <td>683.000000</td>\n",
       "      <td>683.000000</td>\n",
       "      <td>683.000000</td>\n",
       "      <td>683.000000</td>\n",
       "      <td>683.000000</td>\n",
       "      <td>683.000000</td>\n",
       "    </tr>\n",
       "    <tr>\n",
       "      <td>mean</td>\n",
       "      <td>1.076720e+06</td>\n",
       "      <td>4.442167</td>\n",
       "      <td>3.150805</td>\n",
       "      <td>3.215227</td>\n",
       "      <td>2.830161</td>\n",
       "      <td>3.234261</td>\n",
       "      <td>3.544656</td>\n",
       "      <td>3.445095</td>\n",
       "      <td>2.869693</td>\n",
       "      <td>1.603221</td>\n",
       "      <td>2.699854</td>\n",
       "    </tr>\n",
       "    <tr>\n",
       "      <td>std</td>\n",
       "      <td>6.206440e+05</td>\n",
       "      <td>2.820761</td>\n",
       "      <td>3.065145</td>\n",
       "      <td>2.988581</td>\n",
       "      <td>2.864562</td>\n",
       "      <td>2.223085</td>\n",
       "      <td>3.643857</td>\n",
       "      <td>2.449697</td>\n",
       "      <td>3.052666</td>\n",
       "      <td>1.732674</td>\n",
       "      <td>0.954592</td>\n",
       "    </tr>\n",
       "    <tr>\n",
       "      <td>min</td>\n",
       "      <td>6.337500e+04</td>\n",
       "      <td>1.000000</td>\n",
       "      <td>1.000000</td>\n",
       "      <td>1.000000</td>\n",
       "      <td>1.000000</td>\n",
       "      <td>1.000000</td>\n",
       "      <td>1.000000</td>\n",
       "      <td>1.000000</td>\n",
       "      <td>1.000000</td>\n",
       "      <td>1.000000</td>\n",
       "      <td>2.000000</td>\n",
       "    </tr>\n",
       "    <tr>\n",
       "      <td>25%</td>\n",
       "      <td>8.776170e+05</td>\n",
       "      <td>2.000000</td>\n",
       "      <td>1.000000</td>\n",
       "      <td>1.000000</td>\n",
       "      <td>1.000000</td>\n",
       "      <td>2.000000</td>\n",
       "      <td>1.000000</td>\n",
       "      <td>2.000000</td>\n",
       "      <td>1.000000</td>\n",
       "      <td>1.000000</td>\n",
       "      <td>2.000000</td>\n",
       "    </tr>\n",
       "    <tr>\n",
       "      <td>50%</td>\n",
       "      <td>1.171795e+06</td>\n",
       "      <td>4.000000</td>\n",
       "      <td>1.000000</td>\n",
       "      <td>1.000000</td>\n",
       "      <td>1.000000</td>\n",
       "      <td>2.000000</td>\n",
       "      <td>1.000000</td>\n",
       "      <td>3.000000</td>\n",
       "      <td>1.000000</td>\n",
       "      <td>1.000000</td>\n",
       "      <td>2.000000</td>\n",
       "    </tr>\n",
       "    <tr>\n",
       "      <td>75%</td>\n",
       "      <td>1.238705e+06</td>\n",
       "      <td>6.000000</td>\n",
       "      <td>5.000000</td>\n",
       "      <td>5.000000</td>\n",
       "      <td>4.000000</td>\n",
       "      <td>4.000000</td>\n",
       "      <td>6.000000</td>\n",
       "      <td>5.000000</td>\n",
       "      <td>4.000000</td>\n",
       "      <td>1.000000</td>\n",
       "      <td>4.000000</td>\n",
       "    </tr>\n",
       "    <tr>\n",
       "      <td>max</td>\n",
       "      <td>1.345435e+07</td>\n",
       "      <td>10.000000</td>\n",
       "      <td>10.000000</td>\n",
       "      <td>10.000000</td>\n",
       "      <td>10.000000</td>\n",
       "      <td>10.000000</td>\n",
       "      <td>10.000000</td>\n",
       "      <td>10.000000</td>\n",
       "      <td>10.000000</td>\n",
       "      <td>10.000000</td>\n",
       "      <td>4.000000</td>\n",
       "    </tr>\n",
       "  </tbody>\n",
       "</table>\n",
       "</div>"
      ],
      "text/plain": [
       "                 id  clump_thickness:  nuiformity_of_cell_size  \\\n",
       "count  6.830000e+02        683.000000               683.000000   \n",
       "mean   1.076720e+06          4.442167                 3.150805   \n",
       "std    6.206440e+05          2.820761                 3.065145   \n",
       "min    6.337500e+04          1.000000                 1.000000   \n",
       "25%    8.776170e+05          2.000000                 1.000000   \n",
       "50%    1.171795e+06          4.000000                 1.000000   \n",
       "75%    1.238705e+06          6.000000                 5.000000   \n",
       "max    1.345435e+07         10.000000                10.000000   \n",
       "\n",
       "       uniformity_of_cell_shape  Marginal Adhesion  \\\n",
       "count                683.000000         683.000000   \n",
       "mean                   3.215227           2.830161   \n",
       "std                    2.988581           2.864562   \n",
       "min                    1.000000           1.000000   \n",
       "25%                    1.000000           1.000000   \n",
       "50%                    1.000000           1.000000   \n",
       "75%                    5.000000           4.000000   \n",
       "max                   10.000000          10.000000   \n",
       "\n",
       "       single_epithelial_cell_size  bare_nuclei  bland_chromatin  \\\n",
       "count                   683.000000   683.000000       683.000000   \n",
       "mean                      3.234261     3.544656         3.445095   \n",
       "std                       2.223085     3.643857         2.449697   \n",
       "min                       1.000000     1.000000         1.000000   \n",
       "25%                       2.000000     1.000000         2.000000   \n",
       "50%                       2.000000     1.000000         3.000000   \n",
       "75%                       4.000000     6.000000         5.000000   \n",
       "max                      10.000000    10.000000        10.000000   \n",
       "\n",
       "       normal_nucleoli     Mitoses       class  \n",
       "count       683.000000  683.000000  683.000000  \n",
       "mean          2.869693    1.603221    2.699854  \n",
       "std           3.052666    1.732674    0.954592  \n",
       "min           1.000000    1.000000    2.000000  \n",
       "25%           1.000000    1.000000    2.000000  \n",
       "50%           1.000000    1.000000    2.000000  \n",
       "75%           4.000000    1.000000    4.000000  \n",
       "max          10.000000   10.000000    4.000000  "
      ]
     },
     "execution_count": 43,
     "metadata": {},
     "output_type": "execute_result"
    }
   ],
   "source": [
    "data.describe()"
   ]
  },
  {
   "cell_type": "code",
   "execution_count": 44,
   "metadata": {},
   "outputs": [
    {
     "name": "stdout",
     "output_type": "stream",
     "text": [
      "Drop missing value rows\n"
     ]
    }
   ],
   "source": [
    "print('Drop missing value rows')\n",
    "replacedData=data.dropna()"
   ]
  },
  {
   "cell_type": "code",
   "execution_count": 45,
   "metadata": {},
   "outputs": [],
   "source": [
    "X=replacedData.iloc[:,1:-1].values"
   ]
  },
  {
   "cell_type": "code",
   "execution_count": 46,
   "metadata": {},
   "outputs": [],
   "source": [
    "Y=replacedData.iloc[:,-1].values"
   ]
  },
  {
   "cell_type": "code",
   "execution_count": 47,
   "metadata": {},
   "outputs": [],
   "source": [
    "Y=(Y-2)/2 #to simplify"
   ]
  },
  {
   "cell_type": "code",
   "execution_count": 48,
   "metadata": {},
   "outputs": [],
   "source": [
    "X_train, X_test, Y_train, Y_test = train_test_split(X, Y, test_size=0.3490, random_state=101)"
   ]
  },
  {
   "cell_type": "code",
   "execution_count": 49,
   "metadata": {},
   "outputs": [],
   "source": [
    "c = tree.DecisionTreeClassifier()\n",
    "c = c.fit(X_train, Y_train)"
   ]
  },
  {
   "cell_type": "code",
   "execution_count": 50,
   "metadata": {},
   "outputs": [
    {
     "data": {
      "text/plain": [
       "[Text(137.50714285714287, 207.55636363636364, 'X[1] <= 2.5\\ngini = 0.463\\nsamples = 444\\nvalue = [282, 162]'),\n",
       " Text(77.72142857142858, 187.7890909090909, 'X[6] <= 4.5\\ngini = 0.058\\nsamples = 268\\nvalue = [260, 8]'),\n",
       " Text(47.82857142857143, 168.0218181818182, 'X[0] <= 6.5\\ngini = 0.015\\nsamples = 259\\nvalue = [257, 2]'),\n",
       " Text(23.914285714285715, 148.25454545454545, 'X[5] <= 4.5\\ngini = 0.008\\nsamples = 257\\nvalue = [256, 1]'),\n",
       " Text(11.957142857142857, 128.48727272727274, 'gini = 0.0\\nsamples = 251\\nvalue = [251, 0]'),\n",
       " Text(35.871428571428574, 128.48727272727274, 'X[4] <= 1.5\\ngini = 0.278\\nsamples = 6\\nvalue = [5, 1]'),\n",
       " Text(23.914285714285715, 108.72, 'gini = 0.0\\nsamples = 1\\nvalue = [0, 1]'),\n",
       " Text(47.82857142857143, 108.72, 'gini = 0.0\\nsamples = 5\\nvalue = [5, 0]'),\n",
       " Text(71.74285714285715, 148.25454545454545, 'X[3] <= 2.0\\ngini = 0.5\\nsamples = 2\\nvalue = [1, 1]'),\n",
       " Text(59.785714285714285, 128.48727272727274, 'gini = 0.0\\nsamples = 1\\nvalue = [0, 1]'),\n",
       " Text(83.7, 128.48727272727274, 'gini = 0.0\\nsamples = 1\\nvalue = [1, 0]'),\n",
       " Text(107.61428571428571, 168.0218181818182, 'X[2] <= 1.5\\ngini = 0.444\\nsamples = 9\\nvalue = [3, 6]'),\n",
       " Text(95.65714285714286, 148.25454545454545, 'gini = 0.0\\nsamples = 3\\nvalue = [3, 0]'),\n",
       " Text(119.57142857142857, 148.25454545454545, 'gini = 0.0\\nsamples = 6\\nvalue = [0, 6]'),\n",
       " Text(197.29285714285714, 187.7890909090909, 'X[5] <= 1.5\\ngini = 0.219\\nsamples = 176\\nvalue = [22, 154]'),\n",
       " Text(155.44285714285715, 168.0218181818182, 'X[1] <= 3.5\\ngini = 0.444\\nsamples = 21\\nvalue = [14, 7]'),\n",
       " Text(143.4857142857143, 148.25454545454545, 'gini = 0.0\\nsamples = 13\\nvalue = [13, 0]'),\n",
       " Text(167.4, 148.25454545454545, 'X[1] <= 5.5\\ngini = 0.219\\nsamples = 8\\nvalue = [1, 7]'),\n",
       " Text(155.44285714285715, 128.48727272727274, 'X[6] <= 3.5\\ngini = 0.5\\nsamples = 2\\nvalue = [1, 1]'),\n",
       " Text(143.4857142857143, 108.72, 'gini = 0.0\\nsamples = 1\\nvalue = [1, 0]'),\n",
       " Text(167.4, 108.72, 'gini = 0.0\\nsamples = 1\\nvalue = [0, 1]'),\n",
       " Text(179.35714285714286, 128.48727272727274, 'gini = 0.0\\nsamples = 6\\nvalue = [0, 6]'),\n",
       " Text(239.14285714285714, 168.0218181818182, 'X[2] <= 2.5\\ngini = 0.098\\nsamples = 155\\nvalue = [8, 147]'),\n",
       " Text(215.22857142857143, 148.25454545454545, 'X[4] <= 2.5\\ngini = 0.49\\nsamples = 7\\nvalue = [3, 4]'),\n",
       " Text(203.27142857142857, 128.48727272727274, 'gini = 0.0\\nsamples = 3\\nvalue = [3, 0]'),\n",
       " Text(227.18571428571428, 128.48727272727274, 'gini = 0.0\\nsamples = 4\\nvalue = [0, 4]'),\n",
       " Text(263.0571428571429, 148.25454545454545, 'X[5] <= 8.5\\ngini = 0.065\\nsamples = 148\\nvalue = [5, 143]'),\n",
       " Text(251.1, 128.48727272727274, 'X[6] <= 2.5\\ngini = 0.177\\nsamples = 51\\nvalue = [5, 46]'),\n",
       " Text(239.14285714285714, 108.72, 'gini = 0.0\\nsamples = 1\\nvalue = [1, 0]'),\n",
       " Text(263.0571428571429, 108.72, 'X[7] <= 2.5\\ngini = 0.147\\nsamples = 50\\nvalue = [4, 46]'),\n",
       " Text(239.14285714285714, 88.95272727272729, 'X[0] <= 7.5\\ngini = 0.408\\nsamples = 7\\nvalue = [2, 5]'),\n",
       " Text(227.18571428571428, 69.18545454545455, 'X[4] <= 5.5\\ngini = 0.444\\nsamples = 3\\nvalue = [2, 1]'),\n",
       " Text(215.22857142857143, 49.418181818181836, 'gini = 0.0\\nsamples = 2\\nvalue = [2, 0]'),\n",
       " Text(239.14285714285714, 49.418181818181836, 'gini = 0.0\\nsamples = 1\\nvalue = [0, 1]'),\n",
       " Text(251.1, 69.18545454545455, 'gini = 0.0\\nsamples = 4\\nvalue = [0, 4]'),\n",
       " Text(286.9714285714286, 88.95272727272729, 'X[5] <= 6.5\\ngini = 0.089\\nsamples = 43\\nvalue = [2, 41]'),\n",
       " Text(275.01428571428573, 69.18545454545455, 'gini = 0.0\\nsamples = 29\\nvalue = [0, 29]'),\n",
       " Text(298.92857142857144, 69.18545454545455, 'X[3] <= 2.0\\ngini = 0.245\\nsamples = 14\\nvalue = [2, 12]'),\n",
       " Text(286.9714285714286, 49.418181818181836, 'gini = 0.0\\nsamples = 1\\nvalue = [1, 0]'),\n",
       " Text(310.8857142857143, 49.418181818181836, 'X[2] <= 4.5\\ngini = 0.142\\nsamples = 13\\nvalue = [1, 12]'),\n",
       " Text(298.92857142857144, 29.650909090909096, 'X[8] <= 1.5\\ngini = 0.444\\nsamples = 3\\nvalue = [1, 2]'),\n",
       " Text(286.9714285714286, 9.883636363636384, 'gini = 0.0\\nsamples = 2\\nvalue = [0, 2]'),\n",
       " Text(310.8857142857143, 9.883636363636384, 'gini = 0.0\\nsamples = 1\\nvalue = [1, 0]'),\n",
       " Text(322.84285714285716, 29.650909090909096, 'gini = 0.0\\nsamples = 10\\nvalue = [0, 10]'),\n",
       " Text(275.01428571428573, 128.48727272727274, 'gini = 0.0\\nsamples = 97\\nvalue = [0, 97]')]"
      ]
     },
     "execution_count": 50,
     "metadata": {},
     "output_type": "execute_result"
    },
    {
     "data": {
      "image/png": "[encoded data removed]",
      "text/plain": [
       "<Figure size 432x288 with 1 Axes>"
      ]
     },
     "metadata": {
      "needs_background": "light"
     },
     "output_type": "display_data"
    }
   ],
   "source": [
    "%matplotlib inline\n",
    "tree.plot_tree(c)"
   ]
  },
  {
   "cell_type": "code",
   "execution_count": 51,
   "metadata": {},
   "outputs": [],
   "source": [
    "Y_pred = c.predict(X_test)\n"
   ]
  },
  {
   "cell_type": "code",
   "execution_count": 52,
   "metadata": {},
   "outputs": [
    {
     "name": "stdout",
     "output_type": "stream",
     "text": [
      "[[151  11]\n",
      " [ 10  67]]\n",
      "              precision    recall  f1-score   support\n",
      "\n",
      "         0.0       0.94      0.93      0.93       162\n",
      "         1.0       0.86      0.87      0.86        77\n",
      "\n",
      "    accuracy                           0.91       239\n",
      "   macro avg       0.90      0.90      0.90       239\n",
      "weighted avg       0.91      0.91      0.91       239\n",
      "\n"
     ]
    }
   ],
   "source": [
    "from sklearn.metrics import classification_report, confusion_matrix\n",
    "print(confusion_matrix(Y_test, Y_pred))\n",
    "print(classification_report(Y_test, Y_pred))"
   ]
  },
  {
   "cell_type": "code",
   "execution_count": 53,
   "metadata": {},
   "outputs": [
    {
     "data": {
      "text/plain": [
       "Text(0.5, 257.44, 'Predicted')"
      ]
     },
     "execution_count": 53,
     "metadata": {},
     "output_type": "execute_result"
    },
    {
     "data": {
      "image/png": "[encoded data removed]",
      "text/plain": [
       "<Figure size 432x288 with 2 Axes>"
      ]
     },
     "metadata": {
      "needs_background": "light"
     },
     "output_type": "display_data"
    }
   ],
   "source": [
    "cnf_matrix=confusion_matrix(Y_test,Y_pred)\n",
    "class_names=[0,1] # classes\n",
    "fig, ax = plt.subplots()\n",
    "tick_marks = np.arange(len(class_names))\n",
    "plt.xticks(tick_marks, class_names)\n",
    "plt.yticks(tick_marks, class_names)\n",
    "# heatmap\n",
    "sns.heatmap(pd.DataFrame(cnf_matrix), annot=True, cmap=\"YlGnBu\" ,fmt='g')\n",
    "ax.xaxis.set_label_position(\"top\")\n",
    "plt.tight_layout()\n",
    "plt.title('Confusion matrix', y=1.1)\n",
    "plt.ylabel('Actual')\n",
    "plt.xlabel('Predicted')"
   ]
  }
 ],
 "metadata": {
  "kernelspec": {
   "display_name": "Python 3",
   "language": "python",
   "name": "python3"
  },
  "language_info": {
   "codemirror_mode": {
    "name": "ipython",
    "version": 3
   },
   "file_extension": ".py",
   "mimetype": "text/x-python",
   "name": "python",
   "nbconvert_exporter": "python",
   "pygments_lexer": "ipython3",
   "version": "3.7.4"
  }
 },
 "nbformat": 4,
 "nbformat_minor": 4
}
